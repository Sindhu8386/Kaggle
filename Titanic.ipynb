{
 "cells": [
  {
   "cell_type": "code",
   "execution_count": 1,
   "metadata": {
    "collapsed": true
   },
   "outputs": [],
   "source": [
    "import pandas as pd\n",
    "import numpy as np\n",
    "import matplotlib.pyplot as plt\n",
    "%matplotlib inline"
   ]
  },
  {
   "cell_type": "code",
   "execution_count": 2,
   "metadata": {
    "collapsed": true
   },
   "outputs": [],
   "source": [
    "path = 'C:\\\\Users\\\\svsho\\\\Desktop\\\\Kaggle\\\\Titanic\\\\train.csv'\n",
    "train = pd.read_csv(path, sep = ',')"
   ]
  },
  {
   "cell_type": "code",
   "execution_count": 3,
   "metadata": {
    "collapsed": true
   },
   "outputs": [],
   "source": [
    "train['Age'] = train['Age'].fillna(train['Age'].mean())\n",
    "train.loc[train['Sex'] == 'male', 'Sex'] =0\n",
    "train.loc[train['Sex'] == 'female', 'Sex'] =1\n",
    "train['Embarked'] = train['Embarked'].fillna('S')\n",
    "train.loc[train['Embarked'] == 'S', 'Embarked'] =1\n",
    "train.loc[train['Embarked'] == 'C', 'Embarked'] =2\n",
    "train.loc[train['Embarked'] == 'Q', 'Embarked'] =3\n"
   ]
  },
  {
   "cell_type": "code",
   "execution_count": 4,
   "metadata": {},
   "outputs": [
    {
     "name": "stderr",
     "output_type": "stream",
     "text": [
      "C:\\Users\\svsho\\Anaconda3\\lib\\site-packages\\sklearn\\cross_validation.py:44: DeprecationWarning: This module was deprecated in version 0.18 in favor of the model_selection module into which all the refactored classes and functions are moved. Also note that the interface of the new CV iterators are different from that of this module. This module will be removed in 0.20.\n",
      "  \"This module will be removed in 0.20.\", DeprecationWarning)\n"
     ]
    }
   ],
   "source": [
    "from sklearn.linear_model import LinearRegression\n",
    "from sklearn.cross_validation import KFold"
   ]
  },
  {
   "cell_type": "code",
   "execution_count": 5,
   "metadata": {
    "collapsed": true
   },
   "outputs": [],
   "source": [
    "from sklearn.linear_model import LinearRegression\n",
    "from sklearn.cross_validation import KFold"
   ]
  },
  {
   "cell_type": "code",
   "execution_count": 6,
   "metadata": {
    "collapsed": true
   },
   "outputs": [],
   "source": [
    "predictors = [\"Pclass\", \"Sex\", \"Embarked\", \"Age\"]"
   ]
  },
  {
   "cell_type": "code",
   "execution_count": 7,
   "metadata": {
    "collapsed": true
   },
   "outputs": [],
   "source": [
    "lr = LinearRegression()\n",
    "kf = KFold(train.shape[0], n_folds=3, random_state=1)\n",
    "predictions = []\n",
    "for data, test in kf:\n",
    "    train_predictions = train[predictors].iloc[data,:]\n",
    "    train_target = train['Survived'].iloc[data]\n",
    "    lr.fit(train_predictions, train_target)\n",
    "    test_predictions = lr.predict(train[predictors].iloc[test,:])\n",
    "    predictions.append(test_predictions)"
   ]
  },
  {
   "cell_type": "code",
   "execution_count": 8,
   "metadata": {
    "collapsed": true
   },
   "outputs": [],
   "source": [
    "predictions = np.concatenate(predictions,axis=0)"
   ]
  },
  {
   "cell_type": "code",
   "execution_count": 9,
   "metadata": {},
   "outputs": [
    {
     "data": {
      "text/plain": [
       "0.78338945005611671"
      ]
     },
     "execution_count": 9,
     "metadata": {},
     "output_type": "execute_result"
    }
   ],
   "source": [
    "predictions[predictions>0.5] =1\n",
    "predictions[predictions<=0.5] =0\n",
    "accuracy = (train['Survived']==predictions).mean()\n",
    "accuracy"
   ]
  },
  {
   "cell_type": "code",
   "execution_count": 10,
   "metadata": {
    "collapsed": true
   },
   "outputs": [],
   "source": [
    "from sklearn.linear_model import LogisticRegression\n",
    "from sklearn.cross_validation import KFold"
   ]
  },
  {
   "cell_type": "code",
   "execution_count": 11,
   "metadata": {
    "collapsed": true
   },
   "outputs": [],
   "source": [
    "predictors = [\"Pclass\", \"Sex\", \"Embarked\", \"Age\"]"
   ]
  },
  {
   "cell_type": "code",
   "execution_count": 13,
   "metadata": {},
   "outputs": [],
   "source": [
    "lor = LogisticRegression()\n",
    "kf = KFold(train.shape[0], n_folds=3, random_state=1)\n",
    "predictions_lor = []\n",
    "for data, test in kf:\n",
    "    train_predictions = train[predictors].iloc[data,:]\n",
    "    train_target = train['Survived'].iloc[data]\n",
    "    lor.fit(train_predictions, train_target)\n",
    "    test_predictions = lor.predict(train[predictors].iloc[test,:])\n",
    "    predictions_lor.append(test_predictions)"
   ]
  },
  {
   "cell_type": "code",
   "execution_count": 14,
   "metadata": {
    "collapsed": true
   },
   "outputs": [],
   "source": [
    "predictions_lor = np.concatenate(predictions_lor,axis=0)"
   ]
  },
  {
   "cell_type": "code",
   "execution_count": 15,
   "metadata": {
    "scrolled": true
   },
   "outputs": [
    {
     "data": {
      "text/plain": [
       "0.79461279461279466"
      ]
     },
     "execution_count": 15,
     "metadata": {},
     "output_type": "execute_result"
    }
   ],
   "source": [
    "predictions_lor[predictions_lor>0.5] =1\n",
    "predictions_lor[predictions_lor<=0.5] =0\n",
    "accuracy = (train['Survived']==predictions_lor).mean()\n",
    "accuracy"
   ]
  },
  {
   "cell_type": "code",
   "execution_count": 17,
   "metadata": {},
   "outputs": [],
   "source": [
    "path = 'C:\\\\Users\\\\svsho\\\\Desktop\\\\Kaggle\\\\Titanic\\\\test.csv'\n",
    "test1 = pd.read_csv(path, sep = ',')"
   ]
  },
  {
   "cell_type": "code",
   "execution_count": 18,
   "metadata": {
    "collapsed": true
   },
   "outputs": [],
   "source": [
    "test1['Age'] = test1['Age'].fillna(test1['Age'].mean())\n",
    "test1.loc[test1['Sex'] == 'male', 'Sex'] =0\n",
    "test1.loc[test1['Sex'] == 'female', 'Sex'] =1\n",
    "test1['Embarked'] = test1['Embarked'].fillna('S')\n",
    "test1.loc[test1['Embarked'] == 'S', 'Embarked'] =1\n",
    "test1.loc[test1['Embarked'] == 'C', 'Embarked'] =2\n",
    "test1.loc[test1['Embarked'] == 'Q', 'Embarked'] =3"
   ]
  },
  {
   "cell_type": "code",
   "execution_count": null,
   "metadata": {
    "collapsed": true
   },
   "outputs": [],
   "source": [
    "lor = LogisticRegression()\n",
    "kf = KFold(train.shape[0], n_folds=3, random_state=1)\n",
    "predictions_test = []\n",
    "for data, test in kf:\n",
    "    train_predictions = train[predictors].iloc[data,:]\n",
    "    train_target = train['Survived'].iloc[test1]\n",
    "    lor.fit(train_predictions, train_target)\n",
    "    test_predictions = lor.predict(train[predictors].iloc[test,:])\n",
    "    predictions_lor.append(test_predictions)"
   ]
  }
 ],
 "metadata": {
  "kernelspec": {
   "display_name": "Python 3",
   "language": "python",
   "name": "python3"
  },
  "language_info": {
   "codemirror_mode": {
    "name": "ipython",
    "version": 3
   },
   "file_extension": ".py",
   "mimetype": "text/x-python",
   "name": "python",
   "nbconvert_exporter": "python",
   "pygments_lexer": "ipython3",
   "version": "3.6.1"
  }
 },
 "nbformat": 4,
 "nbformat_minor": 2
}
